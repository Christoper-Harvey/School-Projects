{
 "cells": [
  {
   "cell_type": "markdown",
   "metadata": {},
   "source": [
    "# Examining Racial Discrimination in the US Job Market\n",
    "\n",
    "### Background\n",
    "Racial discrimination continues to be pervasive in cultures throughout the world. Researchers examined the level of racial discrimination in the United States labor market by randomly assigning identical résumés to black-sounding or white-sounding names and observing the impact on requests for interviews from employers.\n",
    "\n",
    "### Data\n",
    "In the dataset provided, each row represents a resume. The 'race' column has two values, 'b' and 'w', indicating black-sounding and white-sounding. The column 'call' has two values, 1 and 0, indicating whether the resume received a call from employers or not.\n",
    "\n",
    "Note that the 'b' and 'w' values in race are assigned randomly to the resumes when presented to the employer."
   ]
  },
  {
   "cell_type": "markdown",
   "metadata": {},
   "source": [
    "### Exercises\n",
    "You will perform a statistical analysis to establish whether race has a significant impact on the rate of callbacks for resumes.\n",
    "\n",
    "Answer the following questions **in this notebook below and submit to your Github account**. \n",
    "\n",
    "   1. What test is appropriate for this problem? Does CLT apply?\n",
    "   2. What are the null and alternate hypotheses?\n",
    "   3. Compute margin of error, confidence interval, and p-value. Try using both the bootstrapping and the frequentist statistical approaches.\n",
    "   4. Write a story describing the statistical significance in the context or the original problem.\n",
    "   5. Does your analysis mean that race/name is the most important factor in callback success? Why or why not? If not, how would you amend your analysis?\n",
    "\n",
    "You can include written notes in notebook cells using Markdown: \n",
    "   - In the control panel at the top, choose Cell > Cell Type > Markdown\n",
    "   - Markdown syntax: http://nestacms.com/docs/creating-content/markdown-cheat-sheet\n",
    "\n",
    "#### Resources\n",
    "+ Experiment information and data source: http://www.povertyactionlab.org/evaluation/discrimination-job-market-united-states\n",
    "+ Scipy statistical methods: http://docs.scipy.org/doc/scipy/reference/stats.html \n",
    "+ Markdown syntax: http://nestacms.com/docs/creating-content/markdown-cheat-sheet\n",
    "+ Formulas for the Bernoulli distribution: https://en.wikipedia.org/wiki/Bernoulli_distribution"
   ]
  },
  {
   "cell_type": "code",
   "execution_count": 75,
   "metadata": {},
   "outputs": [],
   "source": [
    "import pandas as pd\n",
    "import numpy as np\n",
    "from scipy import stats\n",
    "import matplotlib.pyplot as plt"
   ]
  },
  {
   "cell_type": "code",
   "execution_count": 2,
   "metadata": {},
   "outputs": [],
   "source": [
    "data = pd.io.stata.read_stata('data/us_job_market_discrimination.dta')"
   ]
  },
  {
   "cell_type": "code",
   "execution_count": 18,
   "metadata": {},
   "outputs": [
    {
     "data": {
      "text/plain": [
       "157.0"
      ]
     },
     "execution_count": 18,
     "metadata": {},
     "output_type": "execute_result"
    }
   ],
   "source": [
    "# number of callbacks for black-sounding names\n",
    "sum(data[data.race=='b'].call)"
   ]
  },
  {
   "cell_type": "code",
   "execution_count": 4,
   "metadata": {},
   "outputs": [
    {
     "data": {
      "text/html": [
       "<div>\n",
       "<style scoped>\n",
       "    .dataframe tbody tr th:only-of-type {\n",
       "        vertical-align: middle;\n",
       "    }\n",
       "\n",
       "    .dataframe tbody tr th {\n",
       "        vertical-align: top;\n",
       "    }\n",
       "\n",
       "    .dataframe thead th {\n",
       "        text-align: right;\n",
       "    }\n",
       "</style>\n",
       "<table border=\"1\" class=\"dataframe\">\n",
       "  <thead>\n",
       "    <tr style=\"text-align: right;\">\n",
       "      <th></th>\n",
       "      <th>id</th>\n",
       "      <th>ad</th>\n",
       "      <th>education</th>\n",
       "      <th>ofjobs</th>\n",
       "      <th>yearsexp</th>\n",
       "      <th>honors</th>\n",
       "      <th>volunteer</th>\n",
       "      <th>military</th>\n",
       "      <th>empholes</th>\n",
       "      <th>occupspecific</th>\n",
       "      <th>...</th>\n",
       "      <th>compreq</th>\n",
       "      <th>orgreq</th>\n",
       "      <th>manuf</th>\n",
       "      <th>transcom</th>\n",
       "      <th>bankreal</th>\n",
       "      <th>trade</th>\n",
       "      <th>busservice</th>\n",
       "      <th>othservice</th>\n",
       "      <th>missind</th>\n",
       "      <th>ownership</th>\n",
       "    </tr>\n",
       "  </thead>\n",
       "  <tbody>\n",
       "    <tr>\n",
       "      <th>0</th>\n",
       "      <td>b</td>\n",
       "      <td>1</td>\n",
       "      <td>4</td>\n",
       "      <td>2</td>\n",
       "      <td>6</td>\n",
       "      <td>0</td>\n",
       "      <td>0</td>\n",
       "      <td>0</td>\n",
       "      <td>1</td>\n",
       "      <td>17</td>\n",
       "      <td>...</td>\n",
       "      <td>1.0</td>\n",
       "      <td>0.0</td>\n",
       "      <td>1.0</td>\n",
       "      <td>0.0</td>\n",
       "      <td>0.0</td>\n",
       "      <td>0.0</td>\n",
       "      <td>0.0</td>\n",
       "      <td>0.0</td>\n",
       "      <td>0.0</td>\n",
       "      <td></td>\n",
       "    </tr>\n",
       "    <tr>\n",
       "      <th>1</th>\n",
       "      <td>b</td>\n",
       "      <td>1</td>\n",
       "      <td>3</td>\n",
       "      <td>3</td>\n",
       "      <td>6</td>\n",
       "      <td>0</td>\n",
       "      <td>1</td>\n",
       "      <td>1</td>\n",
       "      <td>0</td>\n",
       "      <td>316</td>\n",
       "      <td>...</td>\n",
       "      <td>1.0</td>\n",
       "      <td>0.0</td>\n",
       "      <td>1.0</td>\n",
       "      <td>0.0</td>\n",
       "      <td>0.0</td>\n",
       "      <td>0.0</td>\n",
       "      <td>0.0</td>\n",
       "      <td>0.0</td>\n",
       "      <td>0.0</td>\n",
       "      <td></td>\n",
       "    </tr>\n",
       "    <tr>\n",
       "      <th>2</th>\n",
       "      <td>b</td>\n",
       "      <td>1</td>\n",
       "      <td>4</td>\n",
       "      <td>1</td>\n",
       "      <td>6</td>\n",
       "      <td>0</td>\n",
       "      <td>0</td>\n",
       "      <td>0</td>\n",
       "      <td>0</td>\n",
       "      <td>19</td>\n",
       "      <td>...</td>\n",
       "      <td>1.0</td>\n",
       "      <td>0.0</td>\n",
       "      <td>1.0</td>\n",
       "      <td>0.0</td>\n",
       "      <td>0.0</td>\n",
       "      <td>0.0</td>\n",
       "      <td>0.0</td>\n",
       "      <td>0.0</td>\n",
       "      <td>0.0</td>\n",
       "      <td></td>\n",
       "    </tr>\n",
       "    <tr>\n",
       "      <th>3</th>\n",
       "      <td>b</td>\n",
       "      <td>1</td>\n",
       "      <td>3</td>\n",
       "      <td>4</td>\n",
       "      <td>6</td>\n",
       "      <td>0</td>\n",
       "      <td>1</td>\n",
       "      <td>0</td>\n",
       "      <td>1</td>\n",
       "      <td>313</td>\n",
       "      <td>...</td>\n",
       "      <td>1.0</td>\n",
       "      <td>0.0</td>\n",
       "      <td>1.0</td>\n",
       "      <td>0.0</td>\n",
       "      <td>0.0</td>\n",
       "      <td>0.0</td>\n",
       "      <td>0.0</td>\n",
       "      <td>0.0</td>\n",
       "      <td>0.0</td>\n",
       "      <td></td>\n",
       "    </tr>\n",
       "    <tr>\n",
       "      <th>4</th>\n",
       "      <td>b</td>\n",
       "      <td>1</td>\n",
       "      <td>3</td>\n",
       "      <td>3</td>\n",
       "      <td>22</td>\n",
       "      <td>0</td>\n",
       "      <td>0</td>\n",
       "      <td>0</td>\n",
       "      <td>0</td>\n",
       "      <td>313</td>\n",
       "      <td>...</td>\n",
       "      <td>1.0</td>\n",
       "      <td>1.0</td>\n",
       "      <td>0.0</td>\n",
       "      <td>0.0</td>\n",
       "      <td>0.0</td>\n",
       "      <td>0.0</td>\n",
       "      <td>0.0</td>\n",
       "      <td>1.0</td>\n",
       "      <td>0.0</td>\n",
       "      <td>Nonprofit</td>\n",
       "    </tr>\n",
       "  </tbody>\n",
       "</table>\n",
       "<p>5 rows × 65 columns</p>\n",
       "</div>"
      ],
      "text/plain": [
       "  id ad  education  ofjobs  yearsexp  honors  volunteer  military  empholes  \\\n",
       "0  b  1          4       2         6       0          0         0         1   \n",
       "1  b  1          3       3         6       0          1         1         0   \n",
       "2  b  1          4       1         6       0          0         0         0   \n",
       "3  b  1          3       4         6       0          1         0         1   \n",
       "4  b  1          3       3        22       0          0         0         0   \n",
       "\n",
       "   occupspecific  ...  compreq  orgreq  manuf  transcom  bankreal trade  \\\n",
       "0             17  ...      1.0     0.0    1.0       0.0       0.0   0.0   \n",
       "1            316  ...      1.0     0.0    1.0       0.0       0.0   0.0   \n",
       "2             19  ...      1.0     0.0    1.0       0.0       0.0   0.0   \n",
       "3            313  ...      1.0     0.0    1.0       0.0       0.0   0.0   \n",
       "4            313  ...      1.0     1.0    0.0       0.0       0.0   0.0   \n",
       "\n",
       "  busservice othservice  missind  ownership  \n",
       "0        0.0        0.0      0.0             \n",
       "1        0.0        0.0      0.0             \n",
       "2        0.0        0.0      0.0             \n",
       "3        0.0        0.0      0.0             \n",
       "4        0.0        1.0      0.0  Nonprofit  \n",
       "\n",
       "[5 rows x 65 columns]"
      ]
     },
     "execution_count": 4,
     "metadata": {},
     "output_type": "execute_result"
    }
   ],
   "source": [
    "data.head()"
   ]
  },
  {
   "cell_type": "markdown",
   "metadata": {
    "collapsed": true
   },
   "source": [
    "<div class=\"span5 alert alert-success\">\n",
    "<p>Your answers to Q1 and Q2 here</p>\n",
    "</div>"
   ]
  },
  {
   "cell_type": "markdown",
   "metadata": {},
   "source": [
    "I think clt applies in this use case. We can test to see if there are normal distributions of whites only, blacks only, and total. Then make our hypothesis off of that.\n",
    "\n",
    "The null hypothesis will be that w = b, the alt will be w =! b.\n",
    "\n",
    "We will test it by having the ratio of total accepted be equal to 1 if w = b."
   ]
  },
  {
   "cell_type": "code",
   "execution_count": 5,
   "metadata": {},
   "outputs": [],
   "source": [
    "w = data[data.race=='w']\n",
    "b = data[data.race=='b']"
   ]
  },
  {
   "cell_type": "code",
   "execution_count": 42,
   "metadata": {},
   "outputs": [],
   "source": [
    "m = data[data['sex']=='m']\n",
    "f = data[data['sex']=='f']"
   ]
  },
  {
   "cell_type": "code",
   "execution_count": 7,
   "metadata": {
    "collapsed": true
   },
   "outputs": [],
   "source": [
    "# Your solution to Q3 here"
   ]
  },
  {
   "cell_type": "code",
   "execution_count": 32,
   "metadata": {
    "scrolled": true
   },
   "outputs": [
    {
     "data": {
      "text/plain": [
       "education                3.620944\n",
       "ofjobs                   3.664476\n",
       "yearsexp                 7.856263\n",
       "honors                   0.054209\n",
       "volunteer                0.408624\n",
       "military                 0.092402\n",
       "empholes                 0.450103\n",
       "occupspecific          214.530594\n",
       "occupbroad               3.475154\n",
       "workinschool             0.558111\n",
       "email                    0.478850\n",
       "computerskills           0.808624\n",
       "specialskills            0.330185\n",
       "h                        0.502259\n",
       "l                        0.497741\n",
       "call                     0.096509\n",
       "adid                   651.777832\n",
       "fracblack                0.308440\n",
       "fracwhite                0.545214\n",
       "lmedhhinc               10.151346\n",
       "fracdropout              0.186026\n",
       "fraccolp                 0.214998\n",
       "linc                     9.554613\n",
       "col                      0.716222\n",
       "eoe                      0.291170\n",
       "parent_sales           587.686462\n",
       "parent_emp            2287.051514\n",
       "branch_sales           196.050644\n",
       "branch_emp             755.416992\n",
       "fed                      0.114765\n",
       "fracblack_empzip         0.079096\n",
       "fracwhite_empzip         0.843762\n",
       "lmedhhinc_empzip        10.655683\n",
       "fracdropout_empzip       0.101692\n",
       "fraccolp_empzip          0.333873\n",
       "linc_empzip             10.031487\n",
       "manager                  0.152361\n",
       "supervisor               0.077207\n",
       "secretary                0.332649\n",
       "offsupport               0.118686\n",
       "salesrep                 0.151129\n",
       "retailsales              0.167967\n",
       "req                      0.787269\n",
       "expreq                   0.435318\n",
       "comreq                   0.124846\n",
       "educreq                  0.106776\n",
       "compreq                  0.436961\n",
       "orgreq                   0.072690\n",
       "manuf                    0.082957\n",
       "transcom                 0.030390\n",
       "bankreal                 0.085010\n",
       "trade                    0.213963\n",
       "busservice               0.267762\n",
       "othservice               0.154825\n",
       "missind                  0.165092\n",
       "dtype: float32"
      ]
     },
     "execution_count": 32,
     "metadata": {},
     "output_type": "execute_result"
    }
   ],
   "source": [
    "w.mean()"
   ]
  },
  {
   "cell_type": "code",
   "execution_count": 33,
   "metadata": {
    "scrolled": false
   },
   "outputs": [
    {
     "data": {
      "text/plain": [
       "education                3.616016\n",
       "ofjobs                   3.658316\n",
       "yearsexp                 7.829569\n",
       "honors                   0.051335\n",
       "volunteer                0.414374\n",
       "military                 0.101848\n",
       "empholes                 0.445996\n",
       "occupspecific          216.744965\n",
       "occupbroad               3.487885\n",
       "workinschool             0.560986\n",
       "email                    0.479671\n",
       "computerskills           0.832444\n",
       "specialskills            0.327310\n",
       "h                        0.502259\n",
       "l                        0.497741\n",
       "call                     0.064476\n",
       "adid                   651.777832\n",
       "fracblack                0.313215\n",
       "fracwhite                0.540330\n",
       "lmedhhinc               10.143031\n",
       "fracdropout              0.185319\n",
       "fraccolp                 0.212639\n",
       "linc                     9.547048\n",
       "col                      0.722793\n",
       "eoe                      0.291170\n",
       "parent_sales           587.686462\n",
       "parent_emp            2287.051514\n",
       "branch_sales           196.050644\n",
       "branch_emp             755.416992\n",
       "fed                      0.114765\n",
       "fracblack_empzip         0.079096\n",
       "fracwhite_empzip         0.843762\n",
       "lmedhhinc_empzip        10.655683\n",
       "fracdropout_empzip       0.101692\n",
       "fraccolp_empzip          0.333873\n",
       "linc_empzip             10.031487\n",
       "manager                  0.151951\n",
       "supervisor               0.077207\n",
       "secretary                0.333060\n",
       "offsupport               0.118686\n",
       "salesrep                 0.151129\n",
       "retailsales              0.167967\n",
       "req                      0.787269\n",
       "expreq                   0.435318\n",
       "comreq                   0.124846\n",
       "educreq                  0.106776\n",
       "compreq                  0.437372\n",
       "orgreq                   0.072690\n",
       "manuf                    0.082957\n",
       "transcom                 0.030390\n",
       "bankreal                 0.085010\n",
       "trade                    0.213963\n",
       "busservice               0.267762\n",
       "othservice               0.154825\n",
       "missind                  0.165092\n",
       "dtype: float32"
      ]
     },
     "execution_count": 33,
     "metadata": {},
     "output_type": "execute_result"
    }
   ],
   "source": [
    "b.mean()"
   ]
  },
  {
   "cell_type": "code",
   "execution_count": 44,
   "metadata": {
    "scrolled": true
   },
   "outputs": [
    {
     "data": {
      "text/plain": [
       "education                3.583823\n",
       "ofjobs                   3.600908\n",
       "yearsexp                 7.936732\n",
       "honors                   0.056060\n",
       "volunteer                0.395622\n",
       "military                 0.079018\n",
       "empholes                 0.497597\n",
       "occupspecific          225.147888\n",
       "occupbroad               3.622264\n",
       "workinschool             0.568073\n",
       "email                    0.492258\n",
       "computerskills           0.868126\n",
       "specialskills            0.353444\n",
       "h                        0.501602\n",
       "l                        0.498398\n",
       "call                     0.082488\n",
       "adid                   720.716492\n",
       "fracblack                0.324727\n",
       "fracwhite                0.529742\n",
       "lmedhhinc               10.141963\n",
       "fracdropout              0.188912\n",
       "fraccolp                 0.207289\n",
       "linc                     9.527083\n",
       "col                      0.671383\n",
       "eoe                      0.285104\n",
       "parent_sales           594.845703\n",
       "parent_emp            2245.817871\n",
       "branch_sales           217.313263\n",
       "branch_emp             868.964294\n",
       "fed                      0.117596\n",
       "fracblack_empzip         0.083128\n",
       "fracwhite_empzip         0.837173\n",
       "lmedhhinc_empzip        10.652699\n",
       "fracdropout_empzip       0.100360\n",
       "fraccolp_empzip          0.343249\n",
       "linc_empzip             10.055281\n",
       "manager                  0.119594\n",
       "supervisor               0.095836\n",
       "secretary                0.424720\n",
       "offsupport               0.148425\n",
       "salesrep                 0.098238\n",
       "retailsales              0.113187\n",
       "req                      0.823545\n",
       "expreq                   0.412974\n",
       "comreq                   0.143620\n",
       "educreq                  0.107581\n",
       "compreq                  0.535238\n",
       "orgreq                   0.090497\n",
       "manuf                    0.075814\n",
       "transcom                 0.024293\n",
       "bankreal                 0.100107\n",
       "trade                    0.159370\n",
       "busservice               0.288041\n",
       "othservice               0.188201\n",
       "missind                  0.164175\n",
       "dtype: float32"
      ]
     },
     "execution_count": 44,
     "metadata": {},
     "output_type": "execute_result"
    }
   ],
   "source": [
    "f.mean()"
   ]
  },
  {
   "cell_type": "code",
   "execution_count": 63,
   "metadata": {
    "scrolled": true
   },
   "outputs": [
    {
     "data": {
      "text/plain": [
       "education                3.733986\n",
       "ofjobs                   3.862989\n",
       "yearsexp                 7.530249\n",
       "honors                   0.041815\n",
       "volunteer                0.464413\n",
       "military                 0.157473\n",
       "empholes                 0.282918\n",
       "occupspecific          183.943054\n",
       "occupbroad               3.012455\n",
       "workinschool             0.531139\n",
       "email                    0.435943\n",
       "computerskills           0.661922\n",
       "specialskills            0.246441\n",
       "h                        0.504448\n",
       "l                        0.495552\n",
       "call                     0.073843\n",
       "adid                   422.023132\n",
       "fracblack                0.265046\n",
       "fracwhite                0.585697\n",
       "lmedhhinc               10.164475\n",
       "fracdropout              0.175003\n",
       "fraccolp                 0.235323\n",
       "linc                     9.629023\n",
       "col                      0.879893\n",
       "eoe                      0.311388\n",
       "parent_sales           566.479309\n",
       "parent_emp            2416.910889\n",
       "branch_sales           111.348404\n",
       "branch_emp             319.595581\n",
       "fed                      0.106464\n",
       "fracblack_empzip         0.059109\n",
       "fracwhite_empzip         0.876433\n",
       "lmedhhinc_empzip        10.670389\n",
       "fracdropout_empzip       0.108296\n",
       "fraccolp_empzip          0.287395\n",
       "linc_empzip              9.913610\n",
       "manager                  0.260676\n",
       "supervisor               0.015125\n",
       "secretary                0.026690\n",
       "offsupport               0.019573\n",
       "salesrep                 0.327402\n",
       "retailsales              0.350534\n",
       "req                      0.666370\n",
       "expreq                   0.509786\n",
       "comreq                   0.062278\n",
       "educreq                  0.104093\n",
       "compreq                  0.110320\n",
       "orgreq                   0.013345\n",
       "manuf                    0.106762\n",
       "transcom                 0.050712\n",
       "bankreal                 0.034698\n",
       "trade                    0.395907\n",
       "busservice               0.200178\n",
       "othservice               0.043594\n",
       "missind                  0.168149\n",
       "dtype: float32"
      ]
     },
     "execution_count": 63,
     "metadata": {},
     "output_type": "execute_result"
    }
   ],
   "source": [
    "m.mean()"
   ]
  },
  {
   "cell_type": "markdown",
   "metadata": {},
   "source": [
    "We see that the data is HEAVILY skewed to woman. Not only is the ratio m/f 1124/3746. We also see that the resumes for females are better then the resumes for males. I don't think this is being honest with a fair assessment of how race impacts callbacks."
   ]
  },
  {
   "cell_type": "code",
   "execution_count": 57,
   "metadata": {},
   "outputs": [],
   "source": [
    "fb = f[f['race']=='b']\n",
    "fw = f[f['race']=='w']\n",
    "mb = m[m['race']=='b']\n",
    "mw = m[m['race']=='w']"
   ]
  },
  {
   "cell_type": "code",
   "execution_count": 66,
   "metadata": {},
   "outputs": [
    {
     "name": "stdout",
     "output_type": "stream",
     "text": [
      "184.0\n",
      "125.0\n",
      "51.0\n",
      "32.0\n",
      "1860\n",
      "1886\n",
      "575\n",
      "549\n"
     ]
    }
   ],
   "source": [
    "print(fw.call.sum())\n",
    "print(fb.call.sum())\n",
    "print(mw.call.sum())\n",
    "print(mb.call.sum())\n",
    "\n",
    "print(fw.call.count())\n",
    "print(fb.call.count())\n",
    "print(mw.call.count())\n",
    "print(mb.call.count())"
   ]
  },
  {
   "cell_type": "markdown",
   "metadata": {},
   "source": [
    "This gives us a call back ratio of 8.87% for mw, 5.83% for mb, 9.89% for fw, and 6.63% for fb.\n",
    "\n",
    "That means that females are favored over males at a constant rate of about 1%.\n",
    "\n",
    "overall rates are 9.65% for w and 6.45% for b.\n"
   ]
  },
  {
   "cell_type": "code",
   "execution_count": 67,
   "metadata": {},
   "outputs": [
    {
     "data": {
      "text/plain": [
       "count    2435.000000\n",
       "mean        0.096509\n",
       "std         0.295349\n",
       "min         0.000000\n",
       "25%         0.000000\n",
       "50%         0.000000\n",
       "75%         0.000000\n",
       "max         1.000000\n",
       "Name: call, dtype: float64"
      ]
     },
     "execution_count": 67,
     "metadata": {},
     "output_type": "execute_result"
    }
   ],
   "source": [
    "w['call'].describe()"
   ]
  },
  {
   "cell_type": "code",
   "execution_count": 68,
   "metadata": {},
   "outputs": [
    {
     "data": {
      "text/plain": [
       "count    2435.000000\n",
       "mean        0.064476\n",
       "std         0.245650\n",
       "min         0.000000\n",
       "25%         0.000000\n",
       "50%         0.000000\n",
       "75%         0.000000\n",
       "max         1.000000\n",
       "Name: call, dtype: float64"
      ]
     },
     "execution_count": 68,
     "metadata": {},
     "output_type": "execute_result"
    }
   ],
   "source": [
    "b['call'].describe()"
   ]
  },
  {
   "cell_type": "code",
   "execution_count": 69,
   "metadata": {},
   "outputs": [
    {
     "data": {
      "text/plain": [
       "count    4870.000000\n",
       "mean        0.080493\n",
       "std         0.272083\n",
       "min         0.000000\n",
       "25%         0.000000\n",
       "50%         0.000000\n",
       "75%         0.000000\n",
       "max         1.000000\n",
       "Name: call, dtype: float64"
      ]
     },
     "execution_count": 69,
     "metadata": {},
     "output_type": "execute_result"
    }
   ],
   "source": [
    "data['call'].describe()"
   ]
  },
  {
   "cell_type": "code",
   "execution_count": 70,
   "metadata": {},
   "outputs": [],
   "source": [
    "def bootstrap_replicate_1d(data, func):\n",
    "    bs_sample = np.random.choice(data, len(data))\n",
    "    \n",
    "    return func(bs_sample)\n",
    "\n",
    "def draw_bs_reps(data, func, size=1):\n",
    "\n",
    "    bs_replicates = np.empty(size)\n",
    "    for i in range(size):\n",
    "        bs_replicates[i] = bootstrap_replicate_1d(data, func)\n",
    "\n",
    "    return bs_replicates"
   ]
  },
  {
   "cell_type": "code",
   "execution_count": 83,
   "metadata": {},
   "outputs": [
    {
     "name": "stdout",
     "output_type": "stream",
     "text": [
      "0.08050679679363966\n",
      "0.09643921969160438\n",
      "0.06451437357664108\n"
     ]
    }
   ],
   "source": [
    "bs_replicates = draw_bs_reps(data['call'], np.mean, size=10000)\n",
    "print(bs_replicates.mean())\n",
    "w_bs_replicates = draw_bs_reps(w['call'], np.mean, size=10000)\n",
    "print(w_bs_replicates.mean())\n",
    "b_bs_replicates = draw_bs_reps(b['call'], np.mean, size=10000)\n",
    "print(b_bs_replicates.mean())"
   ]
  },
  {
   "cell_type": "code",
   "execution_count": 84,
   "metadata": {
    "scrolled": true
   },
   "outputs": [
    {
     "data": {
      "image/png": "[encoded data removed]",
      "text/plain": [
       "<Figure size 432x288 with 1 Axes>"
      ]
     },
     "metadata": {
      "needs_background": "light"
     },
     "output_type": "display_data"
    }
   ],
   "source": [
    "_ = plt.hist(bs_replicates, bins=50, normed=True)\n",
    "_ = plt.xlabel('mean of bootstraped samples')\n",
    "_ = plt.ylabel('% of samples')\n",
    "\n",
    "# Show the plot\n",
    "plt.show()"
   ]
  },
  {
   "cell_type": "code",
   "execution_count": 85,
   "metadata": {
    "scrolled": true
   },
   "outputs": [
    {
     "data": {
      "image/png": "[encoded data removed]",
      "text/plain": [
       "<Figure size 432x288 with 1 Axes>"
      ]
     },
     "metadata": {
      "needs_background": "light"
     },
     "output_type": "display_data"
    }
   ],
   "source": [
    "_ = plt.hist(w_bs_replicates, bins=50, normed=True)\n",
    "_ = plt.xlabel('mean of bootstraped samples')\n",
    "_ = plt.ylabel('% of samples')\n",
    "\n",
    "# Show the plot\n",
    "plt.show()"
   ]
  },
  {
   "cell_type": "code",
   "execution_count": 86,
   "metadata": {
    "scrolled": false
   },
   "outputs": [
    {
     "data": {
      "image/png": "[encoded data removed]",
      "text/plain": [
       "<Figure size 432x288 with 1 Axes>"
      ]
     },
     "metadata": {
      "needs_background": "light"
     },
     "output_type": "display_data"
    }
   ],
   "source": [
    "_ = plt.hist(b_bs_replicates, bins=50, normed=True)\n",
    "_ = plt.xlabel('mean of bootstraped samples')\n",
    "_ = plt.ylabel('% of samples')\n",
    "\n",
    "# Show the plot\n",
    "plt.show()"
   ]
  },
  {
   "cell_type": "code",
   "execution_count": 93,
   "metadata": {},
   "outputs": [
    {
     "data": {
      "text/plain": [
       "-3.7843781150054077"
      ]
     },
     "execution_count": 93,
     "metadata": {},
     "output_type": "execute_result"
    }
   ],
   "source": [
    "std_of_x = w['call'].std()/np.sqrt(4870)\n",
    "std_of_x\n",
    "z = (data['call'].mean() - w['call'].mean())/std_of_x\n",
    "z"
   ]
  },
  {
   "cell_type": "code",
   "execution_count": 94,
   "metadata": {},
   "outputs": [
    {
     "data": {
      "text/plain": [
       "4.550020118457637"
      ]
     },
     "execution_count": 94,
     "metadata": {},
     "output_type": "execute_result"
    }
   ],
   "source": [
    "std_of_x = b['call'].std()/np.sqrt(4870)\n",
    "std_of_x\n",
    "z = (data['call'].mean() - b['call'].mean())/std_of_x\n",
    "z"
   ]
  },
  {
   "cell_type": "markdown",
   "metadata": {},
   "source": [
    "<div class=\"span5 alert alert-success\">\n",
    "<p> Your answers to Q4 and Q5 here </p>\n",
    "</div>"
   ]
  },
  {
   "cell_type": "markdown",
   "metadata": {
    "collapsed": true
   },
   "source": [
    "The null hypothesis was wrong. w!=b. both were far from the mean. w was almost -4 std from the mean and b was 4.5 away from the mean!!!\n",
    "\n",
    "Both were normally distributed so I used CLT and Z testing to find the p values and bootstrapping to find the average means. \n",
    "\n",
    "Although the data was HEAVILY skewed towards women and there were an uneven number of entries in every category(m/f,w/b).\n",
    "The results still are that white people are favored more in callbacks from employeers. I think that a more even dataset would reduce this difference slightly though.\n",
    "\n",
    "I think sex has a much bigger role in callback success and that race plays a lesser part. seeing as how females had a whole std greater chance of getting called back then males. I think a multivariate analysis with race, sex, education, experience, skills, military, disability, age, and cover letter.\n",
    "\n",
    "Using a more focused multivariate analysis with a balanced dataset of identical resumes for all sexes and races will do a better job at seeing if there is still discrimmination and if there is you could make a machine learning model to figure out what features are leading to discrimmination the most."
   ]
  }
 ],
 "metadata": {
  "kernelspec": {
   "display_name": "Python 3",
   "language": "python",
   "name": "python3"
  },
  "language_info": {
   "codemirror_mode": {
    "name": "ipython",
    "version": 3
   },
   "file_extension": ".py",
   "mimetype": "text/x-python",
   "name": "python",
   "nbconvert_exporter": "python",
   "pygments_lexer": "ipython3",
   "version": "3.6.8"
  }
 },
 "nbformat": 4,
 "nbformat_minor": 1
}
